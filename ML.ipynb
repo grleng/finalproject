{
 "cells": [
  {
   "cell_type": "code",
   "execution_count": 5,
   "metadata": {},
   "outputs": [],
   "source": [
    "import warnings\n",
    "warnings.simplefilter('ignore')\n",
    "\n",
    "import matplotlib.pyplot as plt\n",
    "import numpy as np\n",
    "import pandas as pd"
   ]
  },
  {
   "cell_type": "code",
   "execution_count": 6,
   "metadata": {
    "scrolled": false
   },
   "outputs": [
    {
     "data": {
      "text/html": [
       "<div>\n",
       "<style scoped>\n",
       "    .dataframe tbody tr th:only-of-type {\n",
       "        vertical-align: middle;\n",
       "    }\n",
       "\n",
       "    .dataframe tbody tr th {\n",
       "        vertical-align: top;\n",
       "    }\n",
       "\n",
       "    .dataframe thead th {\n",
       "        text-align: right;\n",
       "    }\n",
       "</style>\n",
       "<table border=\"1\" class=\"dataframe\">\n",
       "  <thead>\n",
       "    <tr style=\"text-align: right;\">\n",
       "      <th></th>\n",
       "      <th>ATTEND</th>\n",
       "      <th>BFACIL</th>\n",
       "      <th>BMI</th>\n",
       "      <th>CIG_0</th>\n",
       "      <th>DBWT</th>\n",
       "      <th>DLMP_MM</th>\n",
       "      <th>DLMP_YY</th>\n",
       "      <th>DMAR</th>\n",
       "      <th>DOB_MM</th>\n",
       "      <th>DOB_TT</th>\n",
       "      <th>...</th>\n",
       "      <th>PRIORDEAD</th>\n",
       "      <th>PRIORLIVE</th>\n",
       "      <th>PRIORTERM</th>\n",
       "      <th>PWgt_R</th>\n",
       "      <th>RDMETH_REC</th>\n",
       "      <th>RESTATUS</th>\n",
       "      <th>RF_CESAR</th>\n",
       "      <th>RF_CESARN</th>\n",
       "      <th>SEX</th>\n",
       "      <th>WTGAIN</th>\n",
       "    </tr>\n",
       "  </thead>\n",
       "  <tbody>\n",
       "    <tr>\n",
       "      <th>0</th>\n",
       "      <td>1</td>\n",
       "      <td>1</td>\n",
       "      <td>30.7</td>\n",
       "      <td>0</td>\n",
       "      <td>3657</td>\n",
       "      <td>4</td>\n",
       "      <td>2017</td>\n",
       "      <td>1</td>\n",
       "      <td>1</td>\n",
       "      <td>1227</td>\n",
       "      <td>...</td>\n",
       "      <td>0</td>\n",
       "      <td>1</td>\n",
       "      <td>2</td>\n",
       "      <td>190</td>\n",
       "      <td>1</td>\n",
       "      <td>2</td>\n",
       "      <td>N</td>\n",
       "      <td>0</td>\n",
       "      <td>M</td>\n",
       "      <td>41</td>\n",
       "    </tr>\n",
       "    <tr>\n",
       "      <th>1</th>\n",
       "      <td>1</td>\n",
       "      <td>1</td>\n",
       "      <td>33.3</td>\n",
       "      <td>2</td>\n",
       "      <td>3242</td>\n",
       "      <td>99</td>\n",
       "      <td>9999</td>\n",
       "      <td>2</td>\n",
       "      <td>1</td>\n",
       "      <td>1704</td>\n",
       "      <td>...</td>\n",
       "      <td>0</td>\n",
       "      <td>2</td>\n",
       "      <td>0</td>\n",
       "      <td>188</td>\n",
       "      <td>4</td>\n",
       "      <td>2</td>\n",
       "      <td>Y</td>\n",
       "      <td>2</td>\n",
       "      <td>F</td>\n",
       "      <td>0</td>\n",
       "    </tr>\n",
       "    <tr>\n",
       "      <th>2</th>\n",
       "      <td>1</td>\n",
       "      <td>1</td>\n",
       "      <td>30.0</td>\n",
       "      <td>0</td>\n",
       "      <td>3470</td>\n",
       "      <td>4</td>\n",
       "      <td>2017</td>\n",
       "      <td>1</td>\n",
       "      <td>1</td>\n",
       "      <td>336</td>\n",
       "      <td>...</td>\n",
       "      <td>0</td>\n",
       "      <td>1</td>\n",
       "      <td>0</td>\n",
       "      <td>215</td>\n",
       "      <td>1</td>\n",
       "      <td>1</td>\n",
       "      <td>N</td>\n",
       "      <td>0</td>\n",
       "      <td>M</td>\n",
       "      <td>58</td>\n",
       "    </tr>\n",
       "    <tr>\n",
       "      <th>3</th>\n",
       "      <td>3</td>\n",
       "      <td>1</td>\n",
       "      <td>23.7</td>\n",
       "      <td>0</td>\n",
       "      <td>3140</td>\n",
       "      <td>5</td>\n",
       "      <td>2017</td>\n",
       "      <td>2</td>\n",
       "      <td>1</td>\n",
       "      <td>938</td>\n",
       "      <td>...</td>\n",
       "      <td>0</td>\n",
       "      <td>2</td>\n",
       "      <td>0</td>\n",
       "      <td>138</td>\n",
       "      <td>1</td>\n",
       "      <td>2</td>\n",
       "      <td>N</td>\n",
       "      <td>0</td>\n",
       "      <td>F</td>\n",
       "      <td>0</td>\n",
       "    </tr>\n",
       "    <tr>\n",
       "      <th>4</th>\n",
       "      <td>1</td>\n",
       "      <td>1</td>\n",
       "      <td>35.5</td>\n",
       "      <td>0</td>\n",
       "      <td>2125</td>\n",
       "      <td>99</td>\n",
       "      <td>9999</td>\n",
       "      <td>1</td>\n",
       "      <td>1</td>\n",
       "      <td>830</td>\n",
       "      <td>...</td>\n",
       "      <td>0</td>\n",
       "      <td>1</td>\n",
       "      <td>4</td>\n",
       "      <td>220</td>\n",
       "      <td>3</td>\n",
       "      <td>1</td>\n",
       "      <td>N</td>\n",
       "      <td>0</td>\n",
       "      <td>M</td>\n",
       "      <td>0</td>\n",
       "    </tr>\n",
       "  </tbody>\n",
       "</table>\n",
       "<p>5 rows × 55 columns</p>\n",
       "</div>"
      ],
      "text/plain": [
       "   ATTEND  BFACIL   BMI  CIG_0  DBWT  DLMP_MM  DLMP_YY DMAR  DOB_MM  DOB_TT  \\\n",
       "0       1       1  30.7      0  3657        4     2017    1       1    1227   \n",
       "1       1       1  33.3      2  3242       99     9999    2       1    1704   \n",
       "2       1       1  30.0      0  3470        4     2017    1       1     336   \n",
       "3       3       1  23.7      0  3140        5     2017    2       1     938   \n",
       "4       1       1  35.5      0  2125       99     9999    1       1     830   \n",
       "\n",
       "   ...  PRIORDEAD  PRIORLIVE  PRIORTERM  PWgt_R  RDMETH_REC  RESTATUS  \\\n",
       "0  ...          0          1          2     190           1         2   \n",
       "1  ...          0          2          0     188           4         2   \n",
       "2  ...          0          1          0     215           1         1   \n",
       "3  ...          0          2          0     138           1         2   \n",
       "4  ...          0          1          4     220           3         1   \n",
       "\n",
       "   RF_CESAR  RF_CESARN  SEX  WTGAIN  \n",
       "0         N          0    M      41  \n",
       "1         Y          2    F       0  \n",
       "2         N          0    M      58  \n",
       "3         N          0    F       0  \n",
       "4         N          0    M       0  \n",
       "\n",
       "[5 rows x 55 columns]"
      ]
     },
     "execution_count": 6,
     "metadata": {},
     "output_type": "execute_result"
    }
   ],
   "source": [
    "births2018 = pd.read_csv('usBirths_2018.csv')\n",
    "births2018.head()"
   ]
  },
  {
   "cell_type": "code",
   "execution_count": 7,
   "metadata": {},
   "outputs": [
    {
     "data": {
      "text/html": [
       "<div>\n",
       "<style scoped>\n",
       "    .dataframe tbody tr th:only-of-type {\n",
       "        vertical-align: middle;\n",
       "    }\n",
       "\n",
       "    .dataframe tbody tr th {\n",
       "        vertical-align: top;\n",
       "    }\n",
       "\n",
       "    .dataframe thead th {\n",
       "        text-align: right;\n",
       "    }\n",
       "</style>\n",
       "<table border=\"1\" class=\"dataframe\">\n",
       "  <thead>\n",
       "    <tr style=\"text-align: right;\">\n",
       "      <th></th>\n",
       "      <th>ATTEND</th>\n",
       "      <th>BFACIL</th>\n",
       "      <th>BMI</th>\n",
       "      <th>CIG_0</th>\n",
       "      <th>DBWT</th>\n",
       "      <th>DLMP_MM</th>\n",
       "      <th>DLMP_YY</th>\n",
       "      <th>DOB_MM</th>\n",
       "      <th>DOB_TT</th>\n",
       "      <th>DOB_WK</th>\n",
       "      <th>...</th>\n",
       "      <th>MRACEIMP_</th>\n",
       "      <th>MRACEIMP_1</th>\n",
       "      <th>MTRAN_N</th>\n",
       "      <th>MTRAN_U</th>\n",
       "      <th>MTRAN_Y</th>\n",
       "      <th>RF_CESAR_N</th>\n",
       "      <th>RF_CESAR_U</th>\n",
       "      <th>RF_CESAR_Y</th>\n",
       "      <th>SEX_F</th>\n",
       "      <th>SEX_M</th>\n",
       "    </tr>\n",
       "  </thead>\n",
       "  <tbody>\n",
       "    <tr>\n",
       "      <th>0</th>\n",
       "      <td>1</td>\n",
       "      <td>1</td>\n",
       "      <td>30.7</td>\n",
       "      <td>0</td>\n",
       "      <td>3657</td>\n",
       "      <td>4</td>\n",
       "      <td>2017</td>\n",
       "      <td>1</td>\n",
       "      <td>1227</td>\n",
       "      <td>2</td>\n",
       "      <td>...</td>\n",
       "      <td>1</td>\n",
       "      <td>0</td>\n",
       "      <td>1</td>\n",
       "      <td>0</td>\n",
       "      <td>0</td>\n",
       "      <td>1</td>\n",
       "      <td>0</td>\n",
       "      <td>0</td>\n",
       "      <td>0</td>\n",
       "      <td>1</td>\n",
       "    </tr>\n",
       "    <tr>\n",
       "      <th>1</th>\n",
       "      <td>1</td>\n",
       "      <td>1</td>\n",
       "      <td>33.3</td>\n",
       "      <td>2</td>\n",
       "      <td>3242</td>\n",
       "      <td>99</td>\n",
       "      <td>9999</td>\n",
       "      <td>1</td>\n",
       "      <td>1704</td>\n",
       "      <td>2</td>\n",
       "      <td>...</td>\n",
       "      <td>1</td>\n",
       "      <td>0</td>\n",
       "      <td>1</td>\n",
       "      <td>0</td>\n",
       "      <td>0</td>\n",
       "      <td>0</td>\n",
       "      <td>0</td>\n",
       "      <td>1</td>\n",
       "      <td>1</td>\n",
       "      <td>0</td>\n",
       "    </tr>\n",
       "    <tr>\n",
       "      <th>2</th>\n",
       "      <td>1</td>\n",
       "      <td>1</td>\n",
       "      <td>30.0</td>\n",
       "      <td>0</td>\n",
       "      <td>3470</td>\n",
       "      <td>4</td>\n",
       "      <td>2017</td>\n",
       "      <td>1</td>\n",
       "      <td>336</td>\n",
       "      <td>2</td>\n",
       "      <td>...</td>\n",
       "      <td>1</td>\n",
       "      <td>0</td>\n",
       "      <td>1</td>\n",
       "      <td>0</td>\n",
       "      <td>0</td>\n",
       "      <td>1</td>\n",
       "      <td>0</td>\n",
       "      <td>0</td>\n",
       "      <td>0</td>\n",
       "      <td>1</td>\n",
       "    </tr>\n",
       "    <tr>\n",
       "      <th>3</th>\n",
       "      <td>3</td>\n",
       "      <td>1</td>\n",
       "      <td>23.7</td>\n",
       "      <td>0</td>\n",
       "      <td>3140</td>\n",
       "      <td>5</td>\n",
       "      <td>2017</td>\n",
       "      <td>1</td>\n",
       "      <td>938</td>\n",
       "      <td>2</td>\n",
       "      <td>...</td>\n",
       "      <td>1</td>\n",
       "      <td>0</td>\n",
       "      <td>1</td>\n",
       "      <td>0</td>\n",
       "      <td>0</td>\n",
       "      <td>1</td>\n",
       "      <td>0</td>\n",
       "      <td>0</td>\n",
       "      <td>1</td>\n",
       "      <td>0</td>\n",
       "    </tr>\n",
       "    <tr>\n",
       "      <th>4</th>\n",
       "      <td>1</td>\n",
       "      <td>1</td>\n",
       "      <td>35.5</td>\n",
       "      <td>0</td>\n",
       "      <td>2125</td>\n",
       "      <td>99</td>\n",
       "      <td>9999</td>\n",
       "      <td>1</td>\n",
       "      <td>830</td>\n",
       "      <td>3</td>\n",
       "      <td>...</td>\n",
       "      <td>1</td>\n",
       "      <td>0</td>\n",
       "      <td>1</td>\n",
       "      <td>0</td>\n",
       "      <td>0</td>\n",
       "      <td>1</td>\n",
       "      <td>0</td>\n",
       "      <td>0</td>\n",
       "      <td>0</td>\n",
       "      <td>1</td>\n",
       "    </tr>\n",
       "  </tbody>\n",
       "</table>\n",
       "<p>5 rows × 74 columns</p>\n",
       "</div>"
      ],
      "text/plain": [
       "   ATTEND  BFACIL   BMI  CIG_0  DBWT  DLMP_MM  DLMP_YY  DOB_MM  DOB_TT  \\\n",
       "0       1       1  30.7      0  3657        4     2017       1    1227   \n",
       "1       1       1  33.3      2  3242       99     9999       1    1704   \n",
       "2       1       1  30.0      0  3470        4     2017       1     336   \n",
       "3       3       1  23.7      0  3140        5     2017       1     938   \n",
       "4       1       1  35.5      0  2125       99     9999       1     830   \n",
       "\n",
       "   DOB_WK  ...  MRACEIMP_   MRACEIMP_1  MTRAN_N  MTRAN_U  MTRAN_Y  RF_CESAR_N  \\\n",
       "0       2  ...           1           0        1        0        0           1   \n",
       "1       2  ...           1           0        1        0        0           0   \n",
       "2       2  ...           1           0        1        0        0           1   \n",
       "3       2  ...           1           0        1        0        0           1   \n",
       "4       3  ...           1           0        1        0        0           1   \n",
       "\n",
       "   RF_CESAR_U  RF_CESAR_Y  SEX_F  SEX_M  \n",
       "0           0           0      0      1  \n",
       "1           0           1      1      0  \n",
       "2           0           0      0      1  \n",
       "3           0           0      1      0  \n",
       "4           0           0      0      1  \n",
       "\n",
       "[5 rows x 74 columns]"
      ]
     },
     "execution_count": 7,
     "metadata": {},
     "output_type": "execute_result"
    }
   ],
   "source": [
    " # Use Pandas get_dummies to convert categorical data\n",
    "\n",
    "births2018 = pd.get_dummies(births2018)\n",
    "births2018.head()"
   ]
  },
  {
   "cell_type": "code",
   "execution_count": 8,
   "metadata": {},
   "outputs": [
    {
     "name": "stdout",
     "output_type": "stream",
     "text": [
      "(1048575, 6) (1048575, 1)\n"
     ]
    }
   ],
   "source": [
    "#Input data is refered to as independent variable (uppercase 'X')\n",
    "#BMI=BodyMass Index, PRIORLIVE=Prior Births Now Living; MAGER=Mother's Single Year of Age, MRACE15=Mother's Single Race Only (1=white, 2=black) MRACE31=Mother is Bi-racial, MRACEIMP=Mother's race not imputted\n",
    "X = births2018[[\"BMI\", \"PRIORLIVE\", \"MAGER\", \"MRACE15\", \"MRACE31\", \"MHISPX\"]]\n",
    "#X = births2018\n",
    "#Output data is called the dependent variable (lowercase 'y')\n",
    "y = births2018[\"DBWT\"].values.reshape(-1,1) #Contributing facts to LBW child\n",
    "print(X.shape, y.shape)"
   ]
  },
  {
   "cell_type": "code",
   "execution_count": 9,
   "metadata": {},
   "outputs": [
    {
     "data": {
      "text/plain": [
       "Index(['ATTEND', 'BFACIL', 'BMI', 'CIG_0', 'DBWT', 'DLMP_MM', 'DLMP_YY',\n",
       "       'DOB_MM', 'DOB_TT', 'DOB_WK', 'DOB_YY', 'DWgt_R', 'FAGECOMB', 'FEDUC',\n",
       "       'FHISPX', 'FRACE15', 'FRACE31', 'FRACE6', 'ILLB_R', 'ILOP_R', 'ILP_R',\n",
       "       'MAGER', 'MBSTATE_REC', 'MEDUC', 'MHISPX', 'MRACE15', 'MRACE31',\n",
       "       'MRAVE6', 'M_Ht_In', 'NO_INFEC', 'NO_MMORB', 'NO_RISKS', 'PAY',\n",
       "       'PAY_REC', 'PRECARE', 'PREVIS', 'PRIORDEAD', 'PRIORLIVE', 'PRIORTERM',\n",
       "       'PWgt_R', 'RDMETH_REC', 'RESTATUS', 'RF_CESARN', 'WTGAIN', 'DMAR_1',\n",
       "       'DMAR_2', 'DMAR_ ', 'DMAR_1', 'DMAR_2', 'IMP_SEX_ ', 'IMP_SEX_1',\n",
       "       'IP_GON_N', 'IP_GON_U', 'IP_GON_Y', 'LD_INDL_N', 'LD_INDL_U',\n",
       "       'LD_INDL_Y', 'MAGE_IMPFLG_ ', 'MAGE_IMPFLG_1', 'MAR_IMP_ ', 'MAR_IMP_1',\n",
       "       'MM_AICU_N', 'MM_AICU_U', 'MM_AICU_Y', 'MRACEIMP_ ', 'MRACEIMP_1',\n",
       "       'MTRAN_N', 'MTRAN_U', 'MTRAN_Y', 'RF_CESAR_N', 'RF_CESAR_U',\n",
       "       'RF_CESAR_Y', 'SEX_F', 'SEX_M'],\n",
       "      dtype='object')"
      ]
     },
     "execution_count": 9,
     "metadata": {},
     "output_type": "execute_result"
    }
   ],
   "source": [
    "births2018.columns\n"
   ]
  },
  {
   "cell_type": "code",
   "execution_count": 10,
   "metadata": {},
   "outputs": [
    {
     "data": {
      "text/plain": [
       "3290.0"
      ]
     },
     "execution_count": 10,
     "metadata": {},
     "output_type": "execute_result"
    }
   ],
   "source": [
    "np.median(y)"
   ]
  },
  {
   "cell_type": "code",
   "execution_count": 11,
   "metadata": {},
   "outputs": [],
   "source": [
    "y = np.where(y > 3290.0, 1, 0)"
   ]
  },
  {
   "cell_type": "code",
   "execution_count": 12,
   "metadata": {},
   "outputs": [],
   "source": [
    "# Use train_test_split to create training and testing data\n",
    "\n",
    "from sklearn.model_selection import train_test_split\n",
    "X_train, X_test, y_train, y_test = train_test_split(X, y, random_state=42)\n",
    "#y_train"
   ]
  },
  {
   "cell_type": "code",
   "execution_count": 34,
   "metadata": {},
   "outputs": [
    {
     "data": {
      "text/plain": [
       "MLPClassifier(activation='relu', alpha=0.0001, batch_size='auto', beta_1=0.9,\n",
       "              beta_2=0.999, early_stopping=False, epsilon=1e-08,\n",
       "              hidden_layer_sizes=(8, 8, 8), learning_rate='constant',\n",
       "              learning_rate_init=0.001, max_iter=600, momentum=0.9,\n",
       "              n_iter_no_change=10, nesterovs_momentum=True, power_t=0.5,\n",
       "              random_state=None, shuffle=True, solver='adam', tol=0.0001,\n",
       "              validation_fraction=0.1, verbose=False, warm_start=False)"
      ]
     },
     "execution_count": 34,
     "metadata": {},
     "output_type": "execute_result"
    }
   ],
   "source": [
    "# Create a LinearRegression model and fit it to the scaled training data\n",
    "\n",
    "from sklearn.linear_model import LogisticRegression\n",
    "from sklearn.neural_network import MLPClassifier\n",
    "model = MLPClassifier(hidden_layer_sizes=(8,8,8), activation='relu', solver='adam', max_iter=600)\n",
    "#relu try (tanh, 'identity’, ‘logistic’, ‘tanh’, ‘relu') = These are called activation function\n",
    "#model = LogisticRegression()\n",
    "model.fit(X_train, y_train)"
   ]
  },
  {
   "cell_type": "code",
   "execution_count": 35,
   "metadata": {},
   "outputs": [
    {
     "data": {
      "text/html": [
       "<div>\n",
       "<style scoped>\n",
       "    .dataframe tbody tr th:only-of-type {\n",
       "        vertical-align: middle;\n",
       "    }\n",
       "\n",
       "    .dataframe tbody tr th {\n",
       "        vertical-align: top;\n",
       "    }\n",
       "\n",
       "    .dataframe thead th {\n",
       "        text-align: right;\n",
       "    }\n",
       "</style>\n",
       "<table border=\"1\" class=\"dataframe\">\n",
       "  <thead>\n",
       "    <tr style=\"text-align: right;\">\n",
       "      <th></th>\n",
       "      <th>BMI</th>\n",
       "      <th>PRIORLIVE</th>\n",
       "      <th>MAGER</th>\n",
       "      <th>MRACE15</th>\n",
       "      <th>MRACE31</th>\n",
       "      <th>MHISPX</th>\n",
       "    </tr>\n",
       "  </thead>\n",
       "  <tbody>\n",
       "    <tr>\n",
       "      <th>781974</th>\n",
       "      <td>20.9</td>\n",
       "      <td>0</td>\n",
       "      <td>19</td>\n",
       "      <td>2</td>\n",
       "      <td>2</td>\n",
       "      <td>0</td>\n",
       "    </tr>\n",
       "    <tr>\n",
       "      <th>937737</th>\n",
       "      <td>25.7</td>\n",
       "      <td>0</td>\n",
       "      <td>26</td>\n",
       "      <td>1</td>\n",
       "      <td>1</td>\n",
       "      <td>3</td>\n",
       "    </tr>\n",
       "    <tr>\n",
       "      <th>907828</th>\n",
       "      <td>25.8</td>\n",
       "      <td>3</td>\n",
       "      <td>40</td>\n",
       "      <td>2</td>\n",
       "      <td>2</td>\n",
       "      <td>0</td>\n",
       "    </tr>\n",
       "    <tr>\n",
       "      <th>784628</th>\n",
       "      <td>27.3</td>\n",
       "      <td>1</td>\n",
       "      <td>33</td>\n",
       "      <td>2</td>\n",
       "      <td>2</td>\n",
       "      <td>0</td>\n",
       "    </tr>\n",
       "    <tr>\n",
       "      <th>662460</th>\n",
       "      <td>99.9</td>\n",
       "      <td>1</td>\n",
       "      <td>18</td>\n",
       "      <td>1</td>\n",
       "      <td>1</td>\n",
       "      <td>1</td>\n",
       "    </tr>\n",
       "  </tbody>\n",
       "</table>\n",
       "</div>"
      ],
      "text/plain": [
       "         BMI  PRIORLIVE  MAGER  MRACE15  MRACE31  MHISPX\n",
       "781974  20.9          0     19        2        2       0\n",
       "937737  25.7          0     26        1        1       3\n",
       "907828  25.8          3     40        2        2       0\n",
       "784628  27.3          1     33        2        2       0\n",
       "662460  99.9          1     18        1        1       1"
      ]
     },
     "execution_count": 35,
     "metadata": {},
     "output_type": "execute_result"
    }
   ],
   "source": [
    "X_test.head()"
   ]
  },
  {
   "cell_type": "code",
   "execution_count": 36,
   "metadata": {},
   "outputs": [
    {
     "data": {
      "text/plain": [
       "0.4536654542198581"
      ]
     },
     "execution_count": 36,
     "metadata": {},
     "output_type": "execute_result"
    }
   ],
   "source": [
    "#to predict the value of the column, research ' Regresstion Variale selection'\n",
    "from sklearn.metrics import mean_squared_log_error\n",
    "pred=model.predict(X_test)\n",
    "np.sqrt(mean_squared_log_error(y_test, pred))"
   ]
  },
  {
   "cell_type": "code",
   "execution_count": 37,
   "metadata": {},
   "outputs": [],
   "source": [
    "#the abaove is telling me how good the model is. The smaller the better"
   ]
  },
  {
   "cell_type": "code",
   "execution_count": 55,
   "metadata": {},
   "outputs": [
    {
     "data": {
      "text/plain": [
       "MLPClassifier(activation='relu', alpha=0.0001, batch_size='auto', beta_1=0.9,\n",
       "              beta_2=0.999, early_stopping=False, epsilon=1e-08,\n",
       "              hidden_layer_sizes=(8, 8, 8), learning_rate='constant',\n",
       "              learning_rate_init=0.001, max_iter=600, momentum=0.9,\n",
       "              n_iter_no_change=10, nesterovs_momentum=True, power_t=0.5,\n",
       "              random_state=None, shuffle=True, solver='adam', tol=0.0001,\n",
       "              validation_fraction=0.1, verbose=False, warm_start=False)"
      ]
     },
     "execution_count": 55,
     "metadata": {},
     "output_type": "execute_result"
    }
   ],
   "source": [
    "#if I want to look at real world data, use all of the data. Do not use X_train/y_train\n",
    "from sklearn.linear_model import LogisticRegression\n",
    "from sklearn.neural_network import MLPClassifier\n",
    "model2 = MLPClassifier(hidden_layer_sizes=(8,8,8), activation='relu', solver='adam', max_iter=600)\n",
    "#relu try (tanh, 'identity’, ‘logistic’, ‘tanh’, ‘relu') = These are called activation function\n",
    "#model = LogisticRegression()\n",
    "model2.fit(X, y)"
   ]
  },
  {
   "cell_type": "code",
   "execution_count": 56,
   "metadata": {},
   "outputs": [],
   "source": [
    "import pickle\n",
    "filename = 'birthfactors.sav'\n",
    "pickle.dump(model2, open(filename, 'wb'))\n"
   ]
  },
  {
   "cell_type": "code",
   "execution_count": 57,
   "metadata": {},
   "outputs": [
    {
     "data": {
      "text/plain": [
       "0.455262460926537"
      ]
     },
     "execution_count": 57,
     "metadata": {},
     "output_type": "execute_result"
    }
   ],
   "source": [
    "loaded_model = pickle.load(open(filename, 'rb'))\n",
    "pred=loaded_model.predict(X_test)\n",
    "np.sqrt(mean_squared_log_error(y_test, pred))"
   ]
  },
  {
   "cell_type": "code",
   "execution_count": 58,
   "metadata": {},
   "outputs": [
    {
     "data": {
      "text/html": [
       "<div>\n",
       "<style scoped>\n",
       "    .dataframe tbody tr th:only-of-type {\n",
       "        vertical-align: middle;\n",
       "    }\n",
       "\n",
       "    .dataframe tbody tr th {\n",
       "        vertical-align: top;\n",
       "    }\n",
       "\n",
       "    .dataframe thead th {\n",
       "        text-align: right;\n",
       "    }\n",
       "</style>\n",
       "<table border=\"1\" class=\"dataframe\">\n",
       "  <thead>\n",
       "    <tr style=\"text-align: right;\">\n",
       "      <th></th>\n",
       "      <th>BMI</th>\n",
       "      <th>PRIORLIVE</th>\n",
       "      <th>MAGER</th>\n",
       "      <th>MRACE15</th>\n",
       "      <th>MRACE31</th>\n",
       "      <th>MHISPX</th>\n",
       "    </tr>\n",
       "  </thead>\n",
       "  <tbody>\n",
       "    <tr>\n",
       "      <th>781974</th>\n",
       "      <td>20.9</td>\n",
       "      <td>0</td>\n",
       "      <td>19</td>\n",
       "      <td>2</td>\n",
       "      <td>2</td>\n",
       "      <td>0</td>\n",
       "    </tr>\n",
       "    <tr>\n",
       "      <th>937737</th>\n",
       "      <td>25.7</td>\n",
       "      <td>0</td>\n",
       "      <td>26</td>\n",
       "      <td>1</td>\n",
       "      <td>1</td>\n",
       "      <td>3</td>\n",
       "    </tr>\n",
       "    <tr>\n",
       "      <th>907828</th>\n",
       "      <td>25.8</td>\n",
       "      <td>3</td>\n",
       "      <td>40</td>\n",
       "      <td>2</td>\n",
       "      <td>2</td>\n",
       "      <td>0</td>\n",
       "    </tr>\n",
       "    <tr>\n",
       "      <th>784628</th>\n",
       "      <td>27.3</td>\n",
       "      <td>1</td>\n",
       "      <td>33</td>\n",
       "      <td>2</td>\n",
       "      <td>2</td>\n",
       "      <td>0</td>\n",
       "    </tr>\n",
       "    <tr>\n",
       "      <th>662460</th>\n",
       "      <td>99.9</td>\n",
       "      <td>1</td>\n",
       "      <td>18</td>\n",
       "      <td>1</td>\n",
       "      <td>1</td>\n",
       "      <td>1</td>\n",
       "    </tr>\n",
       "  </tbody>\n",
       "</table>\n",
       "</div>"
      ],
      "text/plain": [
       "         BMI  PRIORLIVE  MAGER  MRACE15  MRACE31  MHISPX\n",
       "781974  20.9          0     19        2        2       0\n",
       "937737  25.7          0     26        1        1       3\n",
       "907828  25.8          3     40        2        2       0\n",
       "784628  27.3          1     33        2        2       0\n",
       "662460  99.9          1     18        1        1       1"
      ]
     },
     "execution_count": 58,
     "metadata": {},
     "output_type": "execute_result"
    }
   ],
   "source": [
    "X_test.head()"
   ]
  },
  {
   "cell_type": "code",
   "execution_count": 59,
   "metadata": {},
   "outputs": [
    {
     "data": {
      "text/plain": [
       "array([0])"
      ]
     },
     "execution_count": 59,
     "metadata": {},
     "output_type": "execute_result"
    }
   ],
   "source": [
    "#TEST for HTML\n",
    "test=pd.DataFrame({\"BMI\":20.9, \"PRIORLIVE\":0, \"MAGER\":19, \"MRACE15\":2, \"MRACE31\": 2, \"MHISPX\":0}, index=[0])\n",
    "pred2=loaded_model.predict(test)\n",
    "pred2"
   ]
  },
  {
   "cell_type": "code",
   "execution_count": 60,
   "metadata": {},
   "outputs": [
    {
     "data": {
      "text/plain": [
       "array([0, 1, 0, ..., 1, 1, 1])"
      ]
     },
     "execution_count": 60,
     "metadata": {},
     "output_type": "execute_result"
    }
   ],
   "source": [
    "pred"
   ]
  },
  {
   "cell_type": "code",
   "execution_count": null,
   "metadata": {},
   "outputs": [],
   "source": []
  }
 ],
 "metadata": {
  "kernelspec": {
   "display_name": "Python 3",
   "language": "python",
   "name": "python3"
  },
  "language_info": {
   "codemirror_mode": {
    "name": "ipython",
    "version": 3
   },
   "file_extension": ".py",
   "mimetype": "text/x-python",
   "name": "python",
   "nbconvert_exporter": "python",
   "pygments_lexer": "ipython3",
   "version": "3.7.3"
  }
 },
 "nbformat": 4,
 "nbformat_minor": 2
}
